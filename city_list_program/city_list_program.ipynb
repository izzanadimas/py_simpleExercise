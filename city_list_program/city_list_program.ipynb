{
 "cells": [
  {
   "attachments": {},
   "cell_type": "markdown",
   "metadata": {},
   "source": [
    "## **SOAL**\n",
    "1. Buatlah daftar nama kota kota  di Jepang/JP (D), Australia/AU (C), Prancis/FR (A) yang ada di file tersebut\n",
    "2. Ada brp kota yang ada di file tersebut?\n",
    "3. Tambahakan di dalam daftar nama kota kordinatnya longitude latitude\n",
    "4. Tampilkan dengan baik sprti menampilkan tabel daftar nama kota tersebut.\n",
    "5. Tuliskan daftar tadi ke file txt\n",
    "6. Buatkan program pencarian nama kota dari daftar yang telah Anda buat (bukan dari file txt). jika nama kota ada, ditampilkan nama dan koordinat nya , jika tidak ada diberikan pesan tidak menemukan kota yang dicari.\n",
    "7. Ada berapa nama kota yang huruf depannya berawalan A, B, dst sampai Z dimana sumber datanya adalah daftar yang sudah Anda buat (bukan file txt)."
   ]
  },
  {
   "attachments": {},
   "cell_type": "markdown",
   "metadata": {},
   "source": [
    "## **JAWABAN**\n",
    "cr: Akhdan, Ijan"
   ]
  },
  {
   "attachments": {},
   "cell_type": "markdown",
   "metadata": {},
   "source": [
    "### Preparation (baca file .json)"
   ]
  },
  {
   "cell_type": "code",
   "execution_count": null,
   "metadata": {},
   "outputs": [],
   "source": [
    "import json\n",
    " \n",
    "with open('history.city.list.json', encoding=\"utf8\") as json_file:\n",
    "    data = json.load(json_file)"
   ]
  },
  {
   "attachments": {},
   "cell_type": "markdown",
   "metadata": {},
   "source": [
    "### No. 1"
   ]
  },
  {
   "cell_type": "code",
   "execution_count": null,
   "metadata": {},
   "outputs": [],
   "source": [
    "country_tofind = \"AU\" \n",
    "# Kelas D > Jepang ubah jadi \"JP\"\n",
    "# Kelas C > Australia ubah jadi \"AU\"\n",
    "# Kelas A > Prancis ubah jadi \"FR\"\n",
    "\n",
    "def find(country):\n",
    "    global city_list\n",
    "    city_list = []\n",
    "    for i in range (len(data)):\n",
    "        if(data[i]['city']['country']==country):\n",
    "            city_list.append(data[i]['city']['name'])\n",
    "    return city_list\n",
    "\n",
    "find(country_tofind)"
   ]
  },
  {
   "attachments": {},
   "cell_type": "markdown",
   "metadata": {},
   "source": [
    "### No. 2"
   ]
  },
  {
   "cell_type": "code",
   "execution_count": null,
   "metadata": {},
   "outputs": [],
   "source": [
    "print(len(city_list))"
   ]
  },
  {
   "attachments": {},
   "cell_type": "markdown",
   "metadata": {},
   "source": [
    "### No. 3"
   ]
  },
  {
   "cell_type": "code",
   "execution_count": null,
   "metadata": {},
   "outputs": [],
   "source": [
    "def city_info(country):\n",
    "    global city_info_dict\n",
    "    city_info_dict={}\n",
    "    for i in range (len(data)):\n",
    "        if(data[i]['city']['country']==country):\n",
    "            city_info_dict[data[i]['city']['name']]={\n",
    "                'lat':data[i]['city']['coord']['lat'],\n",
    "                'lon':data[i]['city']['coord']['lon']}\n",
    "    return city_info_dict\n",
    "\n",
    "city_info(country_tofind)"
   ]
  },
  {
   "attachments": {},
   "cell_type": "markdown",
   "metadata": {},
   "source": [
    "### No. 4"
   ]
  },
  {
   "cell_type": "code",
   "execution_count": null,
   "metadata": {},
   "outputs": [],
   "source": [
    "country_name = \"AUSTRALIA\"\n",
    "# Ganti sesuai kelas\n",
    "# Kelas D > \"Jepang\"\n",
    "# Kelas C > \"Australia\"\n",
    "# Kelas A > \"Prancis\"\n",
    "\n",
    "def create_table():\n",
    "    hori_line = \"*-----------------------------------------------------------------------*\"\n",
    "    print(hori_line)\n",
    "    print(\"|\"+(\"DAFTAR KOTA DI {}\".format(country_name)).center(71,\" \")+\"|\")\n",
    "    print(\n",
    "        hori_line +'\\n|\\t{}\\t|\\t{}\\t|\\t{}\\t|\\n'.format('City Name','Coord. Lat','Coord. Lon') + hori_line\n",
    "    )\n",
    "\n",
    "    index_city = 0\n",
    "    while index_city < len(city_list):\n",
    "        print(\n",
    "            '|' + (city_list[index_city]).center(23,\" \"),end=''\n",
    "        )\n",
    "        print(\n",
    "            '|' + str((city_info_dict[city_list[index_city]]['lat'])).center(23,\" \"),end=''\n",
    "        )\n",
    "        print(\n",
    "            '|' + str((city_info_dict[city_list[index_city]]['lon'])).center(23,\" \") + '|'\n",
    "        )\n",
    "        index_city += 1\n",
    "\n",
    "    print(hori_line)\n",
    "\n",
    "create_table()"
   ]
  },
  {
   "attachments": {},
   "cell_type": "markdown",
   "metadata": {},
   "source": [
    "### No. 5"
   ]
  },
  {
   "cell_type": "code",
   "execution_count": null,
   "metadata": {},
   "outputs": [],
   "source": [
    "city_list_file = open(\"city_list.txt\",\"w\")\n",
    "city_list_file.write(str(city_info_dict))\n",
    "city_list_file.close()"
   ]
  },
  {
   "attachments": {},
   "cell_type": "markdown",
   "metadata": {},
   "source": [
    "### No. 6"
   ]
  },
  {
   "cell_type": "code",
   "execution_count": null,
   "metadata": {},
   "outputs": [],
   "source": [
    "def find_city_prog():\n",
    "    search_city = input(\"nama kota\")\n",
    "    print(\"Search for: {} \\nResult:\".format(search_city))\n",
    "    try:\n",
    "        x ='''\n",
    "        City Name   = {0}\n",
    "        Lat         = {1}\n",
    "        Lon         = {2}\n",
    "        '''\n",
    "        print(x.format(search_city,city_info_dict[search_city]['lat'],city_info_dict[search_city]['lon']))\n",
    "    except:\n",
    "        print(\"Not found\")\n",
    "        \n",
    "\n",
    "find_city_prog()"
   ]
  },
  {
   "attachments": {},
   "cell_type": "markdown",
   "metadata": {},
   "source": [
    "### No. 7"
   ]
  },
  {
   "cell_type": "code",
   "execution_count": null,
   "metadata": {},
   "outputs": [],
   "source": [
    "def filter_search(input):\n",
    "    total_city = 0\n",
    "    for i in range(len(city_list)):\n",
    "        if str(city_list[i])[0] == input.upper() or str(city_list[i])[0] == input.lower():\n",
    "            print(city_list[i])\n",
    "            total_city += 1\n",
    "    print(\"\\nTotal search: {}\".format(total_city))\n",
    "\n",
    "myfilter = input(\"First Letter: \")\n",
    "filter_search(myfilter)"
   ]
  }
 ],
 "metadata": {
  "kernelspec": {
   "display_name": "Python 3",
   "language": "python",
   "name": "python3"
  },
  "language_info": {
   "codemirror_mode": {
    "name": "ipython",
    "version": 3
   },
   "file_extension": ".py",
   "mimetype": "text/x-python",
   "name": "python",
   "nbconvert_exporter": "python",
   "pygments_lexer": "ipython3",
   "version": "3.10.5"
  },
  "orig_nbformat": 4
 },
 "nbformat": 4,
 "nbformat_minor": 2
}
